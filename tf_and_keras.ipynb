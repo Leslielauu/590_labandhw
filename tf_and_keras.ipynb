{
 "cells": [
  {
   "cell_type": "code",
   "execution_count": 3,
   "metadata": {
    "id": "i_SjPxONCeUY",
    "scrolled": true
   },
   "outputs": [],
   "source": [
    "import numpy as np\n",
    "import tensorflow as tf\n",
    "import matplotlib.pyplot as plt"
   ]
  },
  {
   "cell_type": "code",
   "execution_count": 2,
   "metadata": {},
   "outputs": [
    {
     "name": "stdout",
     "output_type": "stream",
     "text": [
      "Collecting tensorflow\n",
      "\u001b[?25l  Downloading https://files.pythonhosted.org/packages/0d/ea/f936c14b6e886221e53354e1992d0c4e0eb9566fcc70201047bb664ce777/tensorflow-2.3.1-cp37-cp37m-macosx_10_9_x86_64.whl (165.1MB)\n",
      "\u001b[K     |████████████████████████████████| 165.1MB 251kB/s  eta 0:00:01\n",
      "\u001b[?25hRequirement already satisfied: numpy<1.19.0,>=1.16.0 in /Users/liuhao/anaconda3/lib/python3.7/site-packages (from tensorflow) (1.18.4)\n",
      "Collecting tensorflow-estimator<2.4.0,>=2.3.0 (from tensorflow)\n",
      "\u001b[?25l  Downloading https://files.pythonhosted.org/packages/e9/ed/5853ec0ae380cba4588eab1524e18ece1583b65f7ae0e97321f5ff9dfd60/tensorflow_estimator-2.3.0-py2.py3-none-any.whl (459kB)\n",
      "\u001b[K     |████████████████████████████████| 460kB 36.3MB/s eta 0:00:01\n",
      "\u001b[?25hCollecting keras-preprocessing<1.2,>=1.1.1 (from tensorflow)\n",
      "\u001b[?25l  Downloading https://files.pythonhosted.org/packages/79/4c/7c3275a01e12ef9368a892926ab932b33bb13d55794881e3573482b378a7/Keras_Preprocessing-1.1.2-py2.py3-none-any.whl (42kB)\n",
      "\u001b[K     |████████████████████████████████| 51kB 16.2MB/s eta 0:00:01\n",
      "\u001b[?25hCollecting tensorboard<3,>=2.3.0 (from tensorflow)\n",
      "\u001b[?25l  Downloading https://files.pythonhosted.org/packages/e9/1b/6a420d7e6ba431cf3d51b2a5bfa06a958c4141e3189385963dc7f6fbffb6/tensorboard-2.3.0-py3-none-any.whl (6.8MB)\n",
      "\u001b[K     |████████████████████████████████| 6.8MB 13.2MB/s eta 0:00:01\n",
      "\u001b[?25hCollecting opt-einsum>=2.3.2 (from tensorflow)\n",
      "\u001b[?25l  Downloading https://files.pythonhosted.org/packages/bc/19/404708a7e54ad2798907210462fd950c3442ea51acc8790f3da48d2bee8b/opt_einsum-3.3.0-py3-none-any.whl (65kB)\n",
      "\u001b[K     |████████████████████████████████| 71kB 14.8MB/s eta 0:00:01\n",
      "\u001b[?25hCollecting absl-py>=0.7.0 (from tensorflow)\n",
      "\u001b[?25l  Downloading https://files.pythonhosted.org/packages/b9/07/f69dd3367368ad69f174bfe426a973651412ec11d48ec05c000f19fe0561/absl_py-0.10.0-py3-none-any.whl (127kB)\n",
      "\u001b[K     |████████████████████████████████| 133kB 38.8MB/s eta 0:00:01\n",
      "\u001b[?25hCollecting gast==0.3.3 (from tensorflow)\n",
      "  Downloading https://files.pythonhosted.org/packages/d6/84/759f5dd23fec8ba71952d97bcc7e2c9d7d63bdc582421f3cd4be845f0c98/gast-0.3.3-py2.py3-none-any.whl\n",
      "Collecting astunparse==1.6.3 (from tensorflow)\n",
      "  Downloading https://files.pythonhosted.org/packages/2b/03/13dde6512ad7b4557eb792fbcf0c653af6076b81e5941d36ec61f7ce6028/astunparse-1.6.3-py2.py3-none-any.whl\n",
      "Collecting google-pasta>=0.1.8 (from tensorflow)\n",
      "\u001b[?25l  Downloading https://files.pythonhosted.org/packages/a3/de/c648ef6835192e6e2cc03f40b19eeda4382c49b5bafb43d88b931c4c74ac/google_pasta-0.2.0-py3-none-any.whl (57kB)\n",
      "\u001b[K     |████████████████████████████████| 61kB 21.8MB/s eta 0:00:01\n",
      "\u001b[?25hCollecting termcolor>=1.1.0 (from tensorflow)\n",
      "  Downloading https://files.pythonhosted.org/packages/8a/48/a76be51647d0eb9f10e2a4511bf3ffb8cc1e6b14e9e4fab46173aa79f981/termcolor-1.1.0.tar.gz\n",
      "Collecting h5py<2.11.0,>=2.10.0 (from tensorflow)\n",
      "\u001b[?25l  Downloading https://files.pythonhosted.org/packages/1a/8b/4d01ae9a9d50a0bcc7b0b9aae41785d8d9de6fa9bba04dc20b1582181d2d/h5py-2.10.0-cp37-cp37m-macosx_10_6_intel.whl (3.0MB)\n",
      "\u001b[K     |████████████████████████████████| 3.0MB 28.3MB/s eta 0:00:01\n",
      "\u001b[?25hRequirement already satisfied: wheel>=0.26 in /Users/liuhao/anaconda3/lib/python3.7/site-packages (from tensorflow) (0.33.4)\n",
      "Requirement already satisfied: six>=1.12.0 in /Users/liuhao/anaconda3/lib/python3.7/site-packages (from tensorflow) (1.14.0)\n",
      "Collecting grpcio>=1.8.6 (from tensorflow)\n",
      "\u001b[?25l  Downloading https://files.pythonhosted.org/packages/48/16/d229a9d7d45bafecfe6b4c9ebf2053ec929efc2ffbed0b1a89ef190ef4d9/grpcio-1.32.0-cp37-cp37m-macosx_10_9_x86_64.whl (3.3MB)\n",
      "\u001b[K     |████████████████████████████████| 3.3MB 2.8MB/s eta 0:00:01\n",
      "\u001b[?25hCollecting protobuf>=3.9.2 (from tensorflow)\n",
      "\u001b[?25l  Downloading https://files.pythonhosted.org/packages/9c/d2/10c325d657155ad7bd942f9d2652ae8e3e7a4be66723e9789099283733df/protobuf-3.13.0-cp37-cp37m-macosx_10_9_x86_64.whl (1.3MB)\n",
      "\u001b[K     |████████████████████████████████| 1.3MB 36.4MB/s eta 0:00:01\n",
      "\u001b[?25hRequirement already satisfied: wrapt>=1.11.1 in /Users/liuhao/anaconda3/lib/python3.7/site-packages (from tensorflow) (1.11.2)\n",
      "Requirement already satisfied: markdown>=2.6.8 in /Users/liuhao/anaconda3/lib/python3.7/site-packages (from tensorboard<3,>=2.3.0->tensorflow) (3.2.1)\n",
      "Requirement already satisfied: setuptools>=41.0.0 in /Users/liuhao/anaconda3/lib/python3.7/site-packages (from tensorboard<3,>=2.3.0->tensorflow) (46.1.3)\n",
      "Requirement already satisfied: werkzeug>=0.11.15 in /Users/liuhao/anaconda3/lib/python3.7/site-packages (from tensorboard<3,>=2.3.0->tensorflow) (0.15.4)\n",
      "Collecting google-auth-oauthlib<0.5,>=0.4.1 (from tensorboard<3,>=2.3.0->tensorflow)\n",
      "  Downloading https://files.pythonhosted.org/packages/7b/b8/88def36e74bee9fce511c9519571f4e485e890093ab7442284f4ffaef60b/google_auth_oauthlib-0.4.1-py2.py3-none-any.whl\n",
      "Collecting tensorboard-plugin-wit>=1.6.0 (from tensorboard<3,>=2.3.0->tensorflow)\n",
      "\u001b[?25l  Downloading https://files.pythonhosted.org/packages/b6/85/5c5ac0a8c5efdfab916e9c6bc18963f6a6996a8a1e19ec4ad8c9ac9c623c/tensorboard_plugin_wit-1.7.0-py3-none-any.whl (779kB)\n",
      "\u001b[K     |████████████████████████████████| 788kB 40.3MB/s eta 0:00:01\n",
      "\u001b[?25hCollecting google-auth<2,>=1.6.3 (from tensorboard<3,>=2.3.0->tensorflow)\n",
      "\u001b[?25l  Downloading https://files.pythonhosted.org/packages/1f/cf/724b6436967a8be879c8de16b09fd80e0e7b0bcad462f5c09ee021605785/google_auth-1.22.1-py2.py3-none-any.whl (114kB)\n",
      "\u001b[K     |████████████████████████████████| 122kB 16.3MB/s eta 0:00:01\n",
      "\u001b[?25hRequirement already satisfied: requests<3,>=2.21.0 in /Users/liuhao/anaconda3/lib/python3.7/site-packages (from tensorboard<3,>=2.3.0->tensorflow) (2.23.0)\n",
      "Requirement already satisfied: requests-oauthlib>=0.7.0 in /Users/liuhao/anaconda3/lib/python3.7/site-packages (from google-auth-oauthlib<0.5,>=0.4.1->tensorboard<3,>=2.3.0->tensorflow) (1.3.0)\n",
      "Collecting pyasn1-modules>=0.2.1 (from google-auth<2,>=1.6.3->tensorboard<3,>=2.3.0->tensorflow)\n",
      "\u001b[?25l  Downloading https://files.pythonhosted.org/packages/95/de/214830a981892a3e286c3794f41ae67a4495df1108c3da8a9f62159b9a9d/pyasn1_modules-0.2.8-py2.py3-none-any.whl (155kB)\n",
      "\u001b[K     |████████████████████████████████| 163kB 37.5MB/s eta 0:00:01\n",
      "\u001b[?25hCollecting cachetools<5.0,>=2.0.0 (from google-auth<2,>=1.6.3->tensorboard<3,>=2.3.0->tensorflow)\n",
      "  Downloading https://files.pythonhosted.org/packages/cd/5c/f3aa86b6d5482f3051b433c7616668a9b96fbe49a622210e2c9781938a5c/cachetools-4.1.1-py3-none-any.whl\n",
      "Collecting rsa<5,>=3.1.4; python_version >= \"3.5\" (from google-auth<2,>=1.6.3->tensorboard<3,>=2.3.0->tensorflow)\n",
      "\u001b[?25l  Downloading https://files.pythonhosted.org/packages/1c/df/c3587a667d6b308fadc90b99e8bc8774788d033efcc70f4ecaae7fad144b/rsa-4.6-py3-none-any.whl (47kB)\n",
      "\u001b[K     |████████████████████████████████| 51kB 7.9MB/s eta 0:00:011\n",
      "\u001b[?25hRequirement already satisfied: idna<3,>=2.5 in /Users/liuhao/anaconda3/lib/python3.7/site-packages (from requests<3,>=2.21.0->tensorboard<3,>=2.3.0->tensorflow) (2.9)\n",
      "Requirement already satisfied: chardet<4,>=3.0.2 in /Users/liuhao/anaconda3/lib/python3.7/site-packages (from requests<3,>=2.21.0->tensorboard<3,>=2.3.0->tensorflow) (3.0.4)\n",
      "Requirement already satisfied: certifi>=2017.4.17 in /Users/liuhao/anaconda3/lib/python3.7/site-packages (from requests<3,>=2.21.0->tensorboard<3,>=2.3.0->tensorflow) (2020.4.5.1)\n",
      "Requirement already satisfied: urllib3!=1.25.0,!=1.25.1,<1.26,>=1.21.1 in /Users/liuhao/anaconda3/lib/python3.7/site-packages (from requests<3,>=2.21.0->tensorboard<3,>=2.3.0->tensorflow) (1.25.9)\n",
      "Requirement already satisfied: oauthlib>=3.0.0 in /Users/liuhao/anaconda3/lib/python3.7/site-packages (from requests-oauthlib>=0.7.0->google-auth-oauthlib<0.5,>=0.4.1->tensorboard<3,>=2.3.0->tensorflow) (3.1.0)\n",
      "Collecting pyasn1<0.5.0,>=0.4.6 (from pyasn1-modules>=0.2.1->google-auth<2,>=1.6.3->tensorboard<3,>=2.3.0->tensorflow)\n",
      "  Using cached https://files.pythonhosted.org/packages/62/1e/a94a8d635fa3ce4cfc7f506003548d0a2447ae76fd5ca53932970fe3053f/pyasn1-0.4.8-py2.py3-none-any.whl\n",
      "Building wheels for collected packages: termcolor\n",
      "  Building wheel for termcolor (setup.py) ... \u001b[?25ldone\n",
      "\u001b[?25h  Stored in directory: /Users/liuhao/Library/Caches/pip/wheels/7c/06/54/bc84598ba1daf8f970247f550b175aaaee85f68b4b0c5ab2c6\n",
      "Successfully built termcolor\n"
     ]
    },
    {
     "name": "stdout",
     "output_type": "stream",
     "text": [
      "Installing collected packages: tensorflow-estimator, keras-preprocessing, protobuf, grpcio, pyasn1, pyasn1-modules, cachetools, rsa, google-auth, google-auth-oauthlib, tensorboard-plugin-wit, absl-py, tensorboard, opt-einsum, gast, astunparse, google-pasta, termcolor, h5py, tensorflow\n",
      "  Found existing installation: h5py 2.9.0\n",
      "    Uninstalling h5py-2.9.0:\n",
      "      Successfully uninstalled h5py-2.9.0\n",
      "Successfully installed absl-py-0.10.0 astunparse-1.6.3 cachetools-4.1.1 gast-0.3.3 google-auth-1.22.1 google-auth-oauthlib-0.4.1 google-pasta-0.2.0 grpcio-1.32.0 h5py-2.10.0 keras-preprocessing-1.1.2 opt-einsum-3.3.0 protobuf-3.13.0 pyasn1-0.4.8 pyasn1-modules-0.2.8 rsa-4.6 tensorboard-2.3.0 tensorboard-plugin-wit-1.7.0 tensorflow-2.3.1 tensorflow-estimator-2.3.0 termcolor-1.1.0\n",
      "Note: you may need to restart the kernel to use updated packages.\n"
     ]
    }
   ],
   "source": [
    "pip install tensorflow"
   ]
  },
  {
   "cell_type": "markdown",
   "metadata": {
    "id": "xnjjUBk2USFz"
   },
   "source": [
    "#### first steps in TensorFlow\n",
    "\n",
    "TensorFlow is a framework for automatic differentiation. It has an interface very similar to that of NumPy operating on array data. Let's start by rewriting our NumPy functions for a single neural net layer and a simple two-layer neural net in TensorFlow.\n",
    "\n",
    "A few notes:\n",
    "1. Instead of using `np.dot` for matrix multiplication, check out the `tf.matmul` function instead.\n",
    "2. TensorFlow already has built-in functions for all of the common neural net activation functions with the exception of the \"linear\" activation function, which in TensorFlow is often thought of as having no activation function (since $f(x)=x$ does not change the input). We show you where to find these activation functions in the package and provide a simple implementation of the linear activation function.\n",
    "3. notice that we are using a slightly different function signature for the neural network that lets us pack all of the parameters (weights and biases) into a list, as this will be convenient later when it comes to fitting the model."
   ]
  },
  {
   "cell_type": "code",
   "execution_count": 7,
   "metadata": {
    "id": "i9Rg-tq8CkvB"
   },
   "outputs": [],
   "source": [
    "# activation functions\n",
    "tf.nn.sigmoid\n",
    "tf.nn.tanh\n",
    "tf.nn.relu\n",
    "linear = lambda x: x\n",
    "\n",
    "def nn_layer(x, w, b, f):\n",
    "\n",
    "    return f(tf.matmul(x,w)+b)\n",
    "\n",
    "def nn_2layers(x, params, f_hidden, f_out):\n",
    "    h = nn_layer(x, params[0], params[1], f_hidden)\n",
    "    return nn_layer(h, params[2], params[3], f_out)\n",
    "\n"
   ]
  },
  {
   "cell_type": "markdown",
   "metadata": {
    "id": "JhThmdLRY-3_"
   },
   "source": [
    "Here is a quick test to check if your code is working, at least for a simple case"
   ]
  },
  {
   "cell_type": "code",
   "execution_count": 8,
   "metadata": {
    "id": "gAEL5fDSW18b"
   },
   "outputs": [],
   "source": [
    "w1 = tf.ones((1, 10))\n",
    "b1 = tf.zeros(10)\n",
    "w2 = tf.ones((10, 1))\n",
    "b2 = tf.ones(1)\n",
    "x = 2 * tf.ones((1, 1))\n",
    "yhat = nn_2layers(x, [w1, b1, w2, b2], linear, linear)\n",
    "assert yhat.numpy().squeeze() == 21."
   ]
  },
  {
   "cell_type": "markdown",
   "metadata": {
    "id": "WG9xLmTVZVku"
   },
   "source": [
    "Now let's take a quick look at how TensorFlow can compute derivatives/gradients in a few simpler cases as we build up to using it to fit a neural network.\n",
    "\n",
    "First let's do a simple function where we know the answer -- let's compute the derivative of $f(x) = x^2 + 5x$.\n",
    "\n",
    "Do do this we the `tf.GradientTape()` object as a \"context manager\" where TensorFlow will track the computational graph of the calculation of $f(x)$ during the \"forward pass\". Then we can ask the tape to for the derivate of one of our values with respect to another, and it will be able to use the information that it stored to compute the \"backward pass\" to produce the desired result.\n",
    "\n",
    "We will compute the gradient at $x = 1$, where we know the results should be:\n",
    "$$\n",
    "\\begin{align}\n",
    "f(1) &=  1^2 + 5 = 6 \\\\\n",
    "f'(x) &= 2x+5 \\\\\n",
    "f'(1) &= 2\\cdot 1 + 5 = 7\n",
    "\\end{align}\n",
    "$$"
   ]
  },
  {
   "cell_type": "code",
   "execution_count": 9,
   "metadata": {
    "id": "JRFyaC0UZTmU"
   },
   "outputs": [
    {
     "name": "stdout",
     "output_type": "stream",
     "text": [
      "tf.Tensor(6.0, shape=(), dtype=float32)\n",
      "tf.Tensor(7.0, shape=(), dtype=float32)\n"
     ]
    }
   ],
   "source": [
    "x = tf.Variable(1.0)\n",
    "with tf.GradientTape() as tape:\n",
    "    f_x = x**2 + 5*x\n",
    "print(f_x)\n",
    "print(tape.gradient(f_x, x))"
   ]
  },
  {
   "cell_type": "markdown",
   "metadata": {
    "id": "3uxUuSVkmg2U"
   },
   "source": [
    "Now let's try something a little more challenging. Consider the function\n",
    "$$\n",
    "f(x, y) = \\frac{e^x\\cdot \\sin{\\sqrt{y + x^3}}}{\\tanh{y}}\n",
    "$$\n",
    "Compute its gradient:\n",
    "$$\n",
    "\\Big[\\frac{\\partial f}{\\partial x}, \\frac{\\partial f}{\\partial y}\\Big]\n",
    "$$\n",
    "when $x = 1$, $y = 2$.\n",
    "\n",
    "Look at the docs for `GradientTape.gradient` to figure out how to compute multiple derivatives at once."
   ]
  },
  {
   "cell_type": "code",
   "execution_count": 10,
   "metadata": {
    "id": "MoVyu6BXmaF0"
   },
   "outputs": [],
   "source": [
    "# your code here\n",
    "x,y = tf.Variable(1.0),tf.Variable(2.0)\n",
    "with tf.GradientTape() as tape:\n",
    "    num = tf.exp(x)*tf.sin(tf.sqrt(y+x**3))\n",
    "    dem = tf.nn.tanh(y)\n",
    "    f = num/dem"
   ]
  },
  {
   "cell_type": "markdown",
   "metadata": {
    "id": "OYMrGuElowbD"
   },
   "source": [
    "Now that you know how to compute gradients of any function, it's time to put this to use fitting a neural net. First, here is some synthetic nonlinear regression data to which we can fit our model."
   ]
  },
  {
   "cell_type": "code",
   "execution_count": 11,
   "metadata": {
    "id": "UGQSviJORkp5"
   },
   "outputs": [
    {
     "data": {
      "image/png": "[encoded data removed]",
      "text/plain": [
       "<Figure size 432x288 with 1 Axes>"
      ]
     },
     "metadata": {
      "needs_background": "light"
     },
     "output_type": "display_data"
    }
   ],
   "source": [
    "n = 200\n",
    "x = np.random.uniform(low=-1, high=1, size=n)\n",
    "eps = 0.2 * np.random.randn(n)\n",
    "y = 4 * x * np.sin(4 * x) + eps\n",
    "\n",
    "x, y = x[:, np.newaxis].astype(np.float32), y[:, np.newaxis].astype(np.float32)\n",
    "\n",
    "plt.scatter(x, y, s=10)\n",
    "plt.show()"
   ]
  },
  {
   "cell_type": "markdown",
   "metadata": {
    "id": "LqZTsTfjpMbB"
   },
   "source": [
    "TensorFlow helps us compute gradients of functions. When fitting a neural net via gradient descent, the function that we want to take the gradient of is the loss function. So start by writting a function that compute the loss that we will use for our regression problem: mean squared error.\n",
    "\n",
    "If you need to take an average (hint: you should probably be taking an average), checkout out the `tf.reduce_mean` fuction."
   ]
  },
  {
   "cell_type": "code",
   "execution_count": 12,
   "metadata": {
    "id": "p2whoJ_K2Rm7"
   },
   "outputs": [],
   "source": [
    "def mse(y_true, y_pred):\n",
    "    return 0.5*tf.reduce_mean((y_true-y_pred)**2)"
   ]
  },
  {
   "cell_type": "markdown",
   "metadata": {
    "id": "3x1eJgx1puiJ"
   },
   "source": [
    "Now let's write a function that does a single step of gradient descent. It should:\n",
    "1. use a gradient tape to track computation\n",
    "2. use `nn_2layers` to compute the prediction from the inputs\n",
    "3. use the `mse` function to compute the loss from the predictions and the targets\n",
    "4. use the gradient tape to compute the gradients\n",
    "5. use the gradients and the step size to update the parameters\n",
    "\n",
    "For updating the variable values, use the `assign()` method on any `Variable` rather than the usual Python assignment operator (`=`)"
   ]
  },
  {
   "cell_type": "code",
   "execution_count": 13,
   "metadata": {
    "id": "tROIynfPrGDy"
   },
   "outputs": [],
   "source": [
    "def grad_step(x, y, params, f_hidden, f_out, step_size):\n",
    "    with tf.GradientTape() as tape:\n",
    "        yhat=nn_2layers(x,params,f_hidden, f_out)\n",
    "        loss=mse(y,yhat)\n",
    "    grads=tape.gradient(loss, params)\n",
    "    for var, grad in zip(params, grads):\n",
    "        var.assign(var-step_size*grad)\n",
    "    return loss"
   ]
  },
  {
   "cell_type": "markdown",
   "metadata": {
    "id": "MjP5hIyzr7kU"
   },
   "source": [
    "Finally, let's put everything together to write a function that trains a neural net via gradient descent. Follow the following steps:\n",
    "1. Generate random initial values for the parameters (check out `tf.random.uniform` and pick reasonable bounds)\n",
    "2. Make `tf.Variable` values with these initial values\n",
    "3. Use a loop to call your `grad_step` function repeatedly and save the loss values in a list as you go so you can return it at the end\n",
    "\n",
    "We will assume that the input and targets are both 1-d, so the only thing we need to specify to know what shapes to use for the parameters is the number of units in the hidden layer."
   ]
  },
  {
   "cell_type": "code",
   "execution_count": 14,
   "metadata": {
    "id": "ShUMw8_8syFo"
   },
   "outputs": [],
   "source": [
    "from tqdm.notebook import tqdm\n",
    "\n",
    "def nn_grad_desc(x, y, n_hidden, f_hidden, f_out, step_size, n_iters):\n",
    "    w1 = tf.random.uniform((1, n_hidden), minval=-1, maxval=1)\n",
    "    b1 = tf.random.uniform((n_hidden,), minval=-1, maxval=1)\n",
    "\n",
    "    w2 = tf.random.uniform((n_hidden, 1), minval=-1, maxval=1)\n",
    "    b2 = tf.random.uniform((1,), minval=-1, maxval=1)\n",
    "\n",
    "    params=[tf.Variable(p) for p in [w1,b1,w2,b2]]\n",
    "    losses=[]\n",
    "    for i in tqdm(range(n_iters)):\n",
    "        loss=grad_step(x,y,params,f_hidden, f_out, step_size)\n",
    "        losses.append(loss)\n",
    "    return losses, params"
   ]
  },
  {
   "cell_type": "markdown",
   "metadata": {
    "id": "zRZC3tBj0snH"
   },
   "source": [
    "Now put all of your hard work to use! Call your function to fit the neural net and then plot your neural nets predictions against the data.\n",
    "\n",
    "Some notes:\n",
    "- Use the `tf.linspace` function to get a set of evenly spaced values to predict on for plotting\n",
    "- Resuse your `nn_2layers` function to make predictions using the fitted parameters"
   ]
  },
  {
   "cell_type": "code",
   "execution_count": 15,
   "metadata": {
    "id": "cvLM6zYn1RVM"
   },
   "outputs": [
    {
     "data": {
      "application/vnd.jupyter.widget-view+json": {
       "model_id": "bcbff0c91faf416e8ea3bcfd238d8d79",
       "version_major": 2,
       "version_minor": 0
      },
      "text/plain": [
       "HBox(children=(FloatProgress(value=0.0), HTML(value='')))"
      ]
     },
     "metadata": {},
     "output_type": "display_data"
    },
    {
     "name": "stdout",
     "output_type": "stream",
     "text": [
      "\n"
     ]
    },
    {
     "data": {
      "image/png": "[encoded data removed]",
      "text/plain": [
       "<Figure size 432x288 with 1 Axes>"
      ]
     },
     "metadata": {
      "needs_background": "light"
     },
     "output_type": "display_data"
    }
   ],
   "source": [
    "# your code + plots here\n",
    "losses, params = nn_grad_desc(x, y, n_hidden=8, f_hidden=tf.nn.tanh, f_out=linear, step_size=0.1, n_iters=100)\n",
    "plt.plot(losses)\n",
    "plt.show()"
   ]
  },
  {
   "cell_type": "code",
   "execution_count": 16,
   "metadata": {},
   "outputs": [
    {
     "data": {
      "image/png": "[encoded data removed]",
      "text/plain": [
       "<Figure size 432x288 with 1 Axes>"
      ]
     },
     "metadata": {
      "needs_background": "light"
     },
     "output_type": "display_data"
    }
   ],
   "source": [
    "x_grid=tf.linspace(x.min(), x.max(), 200)\n",
    "plt.scatter(x, y, s=10)\n",
    "plt.show()"
   ]
  },
  {
   "cell_type": "code",
   "execution_count": 18,
   "metadata": {},
   "outputs": [
    {
     "name": "stdout",
     "output_type": "stream",
     "text": [
      "Model: \"sequential_1\"\n",
      "_________________________________________________________________\n",
      "Layer (type)                 Output Shape              Param #   \n",
      "=================================================================\n",
      "dense_2 (Dense)              (None, 8)                 16        \n",
      "_________________________________________________________________\n",
      "dense_3 (Dense)              (None, 1)                 9         \n",
      "=================================================================\n",
      "Total params: 25\n",
      "Trainable params: 25\n",
      "Non-trainable params: 0\n",
      "_________________________________________________________________\n"
     ]
    }
   ],
   "source": [
    "from tensorflow import keras as tfk\n",
    "model = tfk.Sequential([tfk.layers.InputLayer((1,)),tfk.layers.Dense(8, activation=tf.nn.tanh),tfk.layers.Dense(1, activation=None)])\n",
    "model.summary()\n",
    "\n",
    "loss = tfk.losses.MeanSquaredError()\n",
    "opt = tfk.optimizers.Adam()\n",
    "model.compile(opt, loss)\n",
    "\n",
    "results = model.fit(x, y, epochs=10000, batch_size=x.shape[0], verbose=0)\n",
    "yhat = model(x_grid)"
   ]
  },
  {
   "cell_type": "code",
   "execution_count": 19,
   "metadata": {},
   "outputs": [
    {
     "data": {
      "image/png": "[encoded data removed]",
      "text/plain": [
       "<Figure size 432x288 with 1 Axes>"
      ]
     },
     "metadata": {
      "needs_background": "light"
     },
     "output_type": "display_data"
    }
   ],
   "source": [
    "plt.scatter(x, y, s=10)\n",
    "plt.plot([], [])\n",
    "plt.plot(x_grid, yhat)\n",
    "plt.show()"
   ]
  },
  {
   "cell_type": "code",
   "execution_count": null,
   "metadata": {},
   "outputs": [],
   "source": []
  }
 ],
 "metadata": {
  "accelerator": "GPU",
  "colab": {
   "collapsed_sections": [],
   "name": "tf-and-keras.ipynb",
   "provenance": []
  },
  "kernelspec": {
   "display_name": "Python 3",
   "language": "python",
   "name": "python3"
  },
  "language_info": {
   "codemirror_mode": {
    "name": "ipython",
    "version": 3
   },
   "file_extension": ".py",
   "mimetype": "text/x-python",
   "name": "python",
   "nbconvert_exporter": "python",
   "pygments_lexer": "ipython3",
   "version": "3.7.3"
  }
 },
 "nbformat": 4,
 "nbformat_minor": 1
}
